{
 "cells": [
  {
   "cell_type": "code",
   "execution_count": 1,
   "id": "c7b41cac",
   "metadata": {},
   "outputs": [],
   "source": [
    "import pandas as pd\n",
    "import ast\n",
    "import os\n",
    "from dotenv import load_dotenv\n",
    "load_dotenv()\n",
    "from pymongo import MongoClient\n",
    "client = MongoClient(os.getenv(\"URL\"))"
   ]
  },
  {
   "cell_type": "code",
   "execution_count": 2,
   "id": "7f7eda4f",
   "metadata": {},
   "outputs": [],
   "source": [
    "df = pd.read_csv(\"eurocup_2020_results.csv\")"
   ]
  },
  {
   "cell_type": "code",
   "execution_count": 3,
   "id": "6015632d",
   "metadata": {},
   "outputs": [],
   "source": [
    "def read_d_data(element):\n",
    "    try:\n",
    "        return ast.literal_eval(element) \n",
    "    except:\n",
    "        return False"
   ]
  },
  {
   "cell_type": "code",
   "execution_count": 4,
   "id": "041736b5",
   "metadata": {},
   "outputs": [],
   "source": [
    "def clean_percentages(num):            \n",
    "    return int(num.split('%')[0])"
   ]
  },
  {
   "cell_type": "code",
   "execution_count": 5,
   "id": "71a80894",
   "metadata": {},
   "outputs": [],
   "source": [
    "def clean_spaces(name):\n",
    "    return name.strip()"
   ]
  },
  {
   "cell_type": "code",
   "execution_count": 6,
   "id": "e299b002",
   "metadata": {},
   "outputs": [],
   "source": [
    "def clean_pen(data):\n",
    "    if data == 'False':\n",
    "        return False\n",
    "    else:\n",
    "        return int(data)"
   ]
  },
  {
   "cell_type": "code",
   "execution_count": 7,
   "id": "00f5b9ef",
   "metadata": {},
   "outputs": [],
   "source": [
    "df[\"pens_home_score\"] = df[\"pens_home_score\"].apply(clean_pen) #Limpio los datos de los penales, ya que el False y el numero de penales era un STR, y al sumarlo 3+4 me daba 34 :'('\n",
    "df[\"pens_away_score\"] = df[\"pens_away_score\"].apply(clean_pen)"
   ]
  },
  {
   "cell_type": "code",
   "execution_count": 8,
   "id": "79679163",
   "metadata": {},
   "outputs": [],
   "source": [
    "df[\"team_name_home\"]= df[\"team_name_home\"].apply(clean_spaces) #Limpiando espacios en los nombres de los paises.\n",
    "df[\"team_name_away\"]= df[\"team_name_away\"].apply(clean_spaces)"
   ]
  },
  {
   "cell_type": "code",
   "execution_count": 9,
   "id": "139b38c0",
   "metadata": {},
   "outputs": [],
   "source": [
    "df[\"possession_away\"] = df[\"possession_away\"].apply(clean_percentages) #Limpiando el porcentaje, y convirtiendo en numero, ya que era un str.\n",
    "df[\"possession_home\"] = df[\"possession_home\"].apply(clean_percentages)"
   ]
  },
  {
   "cell_type": "code",
   "execution_count": 10,
   "id": "260b3694",
   "metadata": {},
   "outputs": [],
   "source": [
    "df[\"lineup_home\"] = df[\"lineup_home\"].apply(read_d_data) #Convierto estos tres STR en listas.\n",
    "df[\"lineup_away\"] = df[\"lineup_away\"].apply(read_d_data)\n",
    "df[\"events_list\"] = df[\"events_list\"].apply(read_d_data)"
   ]
  },
  {
   "cell_type": "code",
   "execution_count": 11,
   "id": "ef967d21",
   "metadata": {},
   "outputs": [],
   "source": [
    "teams = list(df['team_name_home'].unique()) #Creo una lista de paises\n",
    "teams.sort()"
   ]
  },
  {
   "cell_type": "code",
   "execution_count": 12,
   "id": "6de6bc44",
   "metadata": {},
   "outputs": [],
   "source": [
    "def goals_scored(team):\n",
    "    goals_home = df[(df['team_name_home'] == team)]['team_home_score'].sum()\n",
    "    goals_away = df[(df['team_name_away'] == team)]['team_away_score'].sum()\n",
    "    return int(goals_home + goals_away) "
   ]
  },
  {
   "cell_type": "code",
   "execution_count": 13,
   "id": "5067d496",
   "metadata": {},
   "outputs": [],
   "source": [
    "goals_favor = []\n",
    "for team in teams:\n",
    "    goals_favor.append(goals_scored(team))"
   ]
  },
  {
   "cell_type": "code",
   "execution_count": 14,
   "id": "6013c56d",
   "metadata": {},
   "outputs": [],
   "source": [
    "def goals_against(team):\n",
    "    against_home = df[(df['team_name_home'] == team)]['team_away_score'].sum()\n",
    "    against_away = df[(df['team_name_away'] == team)]['team_home_score'].sum()\n",
    "    return int(against_home + against_away)"
   ]
  },
  {
   "cell_type": "code",
   "execution_count": 15,
   "id": "812d95ac",
   "metadata": {},
   "outputs": [],
   "source": [
    "goals_received = []\n",
    "for team in teams:\n",
    "    goals_received.append(goals_against(team))"
   ]
  },
  {
   "cell_type": "code",
   "execution_count": 16,
   "id": "e4340659",
   "metadata": {},
   "outputs": [],
   "source": [
    "def possession_team(team):\n",
    "    possession_home = df[df['team_name_home'] == team]['possession_home'].sum()\n",
    "    possession_away = df[df['team_name_away'] == team]['possession_away'].sum()\n",
    "    matchs=  df[(df['team_name_away'] == team)|(df['team_name_home'] == f'{team}')]['stage'].count()\n",
    "    possesion_total = (possession_home+possession_away)/matchs\n",
    "    return round(float(possesion_total), 1)"
   ]
  },
  {
   "cell_type": "code",
   "execution_count": 17,
   "id": "6b01fe79",
   "metadata": {},
   "outputs": [],
   "source": [
    "possession_total = []\n",
    "for team in teams:\n",
    "    possession_total.append(possession_team(team))"
   ]
  },
  {
   "cell_type": "code",
   "execution_count": 18,
   "id": "67c26802",
   "metadata": {},
   "outputs": [],
   "source": [
    "def shots(team):\n",
    "    shots_home = df[(df['team_name_home'] == team)]['total_shots_home'].sum()\n",
    "    shots_away = df[(df['team_name_away'] == team)]['total_shots_away'].sum()\n",
    "    return int(shots_home + shots_away)"
   ]
  },
  {
   "cell_type": "code",
   "execution_count": 19,
   "id": "0054a449",
   "metadata": {},
   "outputs": [],
   "source": [
    "total_shots =[]\n",
    "for team in teams:\n",
    "    total_shots.append(shots(team))"
   ]
  },
  {
   "cell_type": "code",
   "execution_count": 20,
   "id": "ccf09320",
   "metadata": {},
   "outputs": [],
   "source": [
    "def pen(team):\n",
    "    pen_home = (df[(df['team_name_home'] == team) & (df['pens_home_score'] != False)]['pens_home_score'].sum())\n",
    "    pen_away = (df[(df['team_name_away'] == team) & (df['pens_away_score'] != False)]['pens_away_score'].sum())\n",
    "    return (pen_home + pen_away)"
   ]
  },
  {
   "cell_type": "code",
   "execution_count": 21,
   "id": "447397d0",
   "metadata": {},
   "outputs": [],
   "source": [
    "penaltys_total = []\n",
    "for team in teams:\n",
    "    penaltys_total.append(pen(team))"
   ]
  },
  {
   "cell_type": "code",
   "execution_count": 22,
   "id": "d0f736c4",
   "metadata": {},
   "outputs": [],
   "source": [
    "def add_data(data, index):\n",
    "    return data[index]"
   ]
  },
  {
   "cell_type": "code",
   "execution_count": 23,
   "id": "3be17862",
   "metadata": {},
   "outputs": [],
   "source": [
    "def create_data(index):\n",
    "    return {\n",
    "        \"team\": add_data(teams, index),\n",
    "        \"possession_total\": add_data(possession_total, index),\n",
    "        \"goals_favor\": add_data(goals_favor, index),\n",
    "        \"goals_received\": add_data(goals_received, index),\n",
    "        \"penaltys_total\": add_data(penaltys_total, index),\n",
    "        \"shots\": add_data(total_shots, index)\n",
    "    }"
   ]
  },
  {
   "cell_type": "code",
   "execution_count": 24,
   "id": "343a5fa5",
   "metadata": {},
   "outputs": [],
   "source": [
    "data_teams = []\n",
    "for index, value in enumerate(teams):\n",
    "    data_teams.append(create_data(index))"
   ]
  },
  {
   "cell_type": "code",
   "execution_count": 25,
   "id": "09dcc24f",
   "metadata": {},
   "outputs": [
    {
     "data": {
      "text/plain": [
       "[{'team': 'Austria',\n",
       "  'possession_total': 53.5,\n",
       "  'goals_favor': 5,\n",
       "  'goals_received': 5,\n",
       "  'penaltys_total': 0,\n",
       "  'shots': 53},\n",
       " {'team': 'Belgium',\n",
       "  'possession_total': 53.8,\n",
       "  'goals_favor': 9,\n",
       "  'goals_received': 3,\n",
       "  'penaltys_total': 0,\n",
       "  'shots': 48},\n",
       " {'team': 'Croatia',\n",
       "  'possession_total': 49.5,\n",
       "  'goals_favor': 7,\n",
       "  'goals_received': 8,\n",
       "  'penaltys_total': 0,\n",
       "  'shots': 42},\n",
       " {'team': 'Czech Republic',\n",
       "  'possession_total': 48.2,\n",
       "  'goals_favor': 6,\n",
       "  'goals_received': 4,\n",
       "  'penaltys_total': 0,\n",
       "  'shots': 56},\n",
       " {'team': 'Denmark',\n",
       "  'possession_total': 53.3,\n",
       "  'goals_favor': 12,\n",
       "  'goals_received': 7,\n",
       "  'penaltys_total': 0,\n",
       "  'shots': 92},\n",
       " {'team': 'England',\n",
       "  'possession_total': 51.0,\n",
       "  'goals_favor': 11,\n",
       "  'goals_received': 2,\n",
       "  'penaltys_total': 2,\n",
       "  'shots': 63},\n",
       " {'team': 'Finland',\n",
       "  'possession_total': 36.7,\n",
       "  'goals_favor': 1,\n",
       "  'goals_received': 3,\n",
       "  'penaltys_total': 0,\n",
       "  'shots': 19},\n",
       " {'team': 'France',\n",
       "  'possession_total': 53.2,\n",
       "  'goals_favor': 7,\n",
       "  'goals_received': 6,\n",
       "  'penaltys_total': 4,\n",
       "  'shots': 56},\n",
       " {'team': 'Germany',\n",
       "  'possession_total': 62.8,\n",
       "  'goals_favor': 6,\n",
       "  'goals_received': 7,\n",
       "  'penaltys_total': 0,\n",
       "  'shots': 49},\n",
       " {'team': 'Hungary',\n",
       "  'possession_total': 29.0,\n",
       "  'goals_favor': 3,\n",
       "  'goals_received': 6,\n",
       "  'penaltys_total': 0,\n",
       "  'shots': 19},\n",
       " {'team': 'Italy',\n",
       "  'possession_total': 54.9,\n",
       "  'goals_favor': 13,\n",
       "  'goals_received': 4,\n",
       "  'penaltys_total': 7,\n",
       "  'shots': 127},\n",
       " {'team': 'Netherlands',\n",
       "  'possession_total': 54.8,\n",
       "  'goals_favor': 8,\n",
       "  'goals_received': 4,\n",
       "  'penaltys_total': 0,\n",
       "  'shots': 52},\n",
       " {'team': 'North Macedonia',\n",
       "  'possession_total': 41.7,\n",
       "  'goals_favor': 2,\n",
       "  'goals_received': 8,\n",
       "  'penaltys_total': 0,\n",
       "  'shots': 33},\n",
       " {'team': 'Poland',\n",
       "  'possession_total': 49.3,\n",
       "  'goals_favor': 4,\n",
       "  'goals_received': 6,\n",
       "  'penaltys_total': 0,\n",
       "  'shots': 40},\n",
       " {'team': 'Portugal',\n",
       "  'possession_total': 54.2,\n",
       "  'goals_favor': 7,\n",
       "  'goals_received': 7,\n",
       "  'penaltys_total': 0,\n",
       "  'shots': 51},\n",
       " {'team': 'Russia',\n",
       "  'possession_total': 42.3,\n",
       "  'goals_favor': 2,\n",
       "  'goals_received': 7,\n",
       "  'penaltys_total': 0,\n",
       "  'shots': 25},\n",
       " {'team': 'Scotland',\n",
       "  'possession_total': 43.3,\n",
       "  'goals_favor': 1,\n",
       "  'goals_received': 5,\n",
       "  'penaltys_total': 0,\n",
       "  'shots': 41},\n",
       " {'team': 'Slovakia',\n",
       "  'possession_total': 45.0,\n",
       "  'goals_favor': 2,\n",
       "  'goals_received': 7,\n",
       "  'penaltys_total': 0,\n",
       "  'shots': 24},\n",
       " {'team': 'Spain',\n",
       "  'possession_total': 73.5,\n",
       "  'goals_favor': 13,\n",
       "  'goals_received': 6,\n",
       "  'penaltys_total': 5,\n",
       "  'shots': 115},\n",
       " {'team': 'Sweden',\n",
       "  'possession_total': 33.2,\n",
       "  'goals_favor': 5,\n",
       "  'goals_received': 4,\n",
       "  'penaltys_total': 0,\n",
       "  'shots': 41},\n",
       " {'team': 'Switzerland',\n",
       "  'possession_total': 47.8,\n",
       "  'goals_favor': 8,\n",
       "  'goals_received': 9,\n",
       "  'penaltys_total': 6,\n",
       "  'shots': 67},\n",
       " {'team': 'Turkey',\n",
       "  'possession_total': 49.7,\n",
       "  'goals_favor': 1,\n",
       "  'goals_received': 8,\n",
       "  'penaltys_total': 0,\n",
       "  'shots': 40},\n",
       " {'team': 'Ukraine',\n",
       "  'possession_total': 49.0,\n",
       "  'goals_favor': 6,\n",
       "  'goals_received': 10,\n",
       "  'penaltys_total': 0,\n",
       "  'shots': 51},\n",
       " {'team': 'Wales',\n",
       "  'possession_total': 37.0,\n",
       "  'goals_favor': 3,\n",
       "  'goals_received': 6,\n",
       "  'penaltys_total': 0,\n",
       "  'shots': 39}]"
      ]
     },
     "execution_count": 25,
     "metadata": {},
     "output_type": "execute_result"
    }
   ],
   "source": [
    "data_teams"
   ]
  },
  {
   "cell_type": "code",
   "execution_count": 26,
   "id": "2a137d00",
   "metadata": {},
   "outputs": [],
   "source": [
    "db = client[\"euro2020\"]"
   ]
  },
  {
   "cell_type": "code",
   "execution_count": 27,
   "id": "035ac5a8",
   "metadata": {},
   "outputs": [],
   "source": [
    "coll_teams = db[\"data_teams\"]"
   ]
  },
  {
   "cell_type": "code",
   "execution_count": 28,
   "id": "c8e4dd3d",
   "metadata": {},
   "outputs": [
    {
     "data": {
      "text/plain": [
       "<pymongo.results.InsertManyResult at 0x7fc6e4041140>"
      ]
     },
     "execution_count": 28,
     "metadata": {},
     "output_type": "execute_result"
    }
   ],
   "source": [
    "coll_teams.insert_many(data_teams)"
   ]
  },
  {
   "cell_type": "code",
   "execution_count": 29,
   "id": "94d6422e",
   "metadata": {},
   "outputs": [],
   "source": [
    "#coll_teams.remove() #Para cuando agregue mas datos extraidos."
   ]
  },
  {
   "cell_type": "code",
   "execution_count": 30,
   "id": "217afe14",
   "metadata": {},
   "outputs": [],
   "source": [
    "copa = df[\"events_list\"]"
   ]
  },
  {
   "cell_type": "code",
   "execution_count": 31,
   "id": "678aa507",
   "metadata": {},
   "outputs": [],
   "source": [
    "lineup_home_players = df['lineup_home']\n",
    "lineup_away_players = df['lineup_away']\n",
    "lineup_total = pd.concat([lineup_home_players, lineup_away_players])"
   ]
  },
  {
   "cell_type": "code",
   "execution_count": 32,
   "id": "a5ad4a93",
   "metadata": {},
   "outputs": [],
   "source": [
    "lista_players = set()\n",
    "for equipo in lineup_total:\n",
    "    for jugador in equipo:\n",
    "        lista_players.add(jugador['Player_Name'])"
   ]
  },
  {
   "cell_type": "code",
   "execution_count": 33,
   "id": "c1dc5830",
   "metadata": {},
   "outputs": [],
   "source": [
    "data_players = []\n",
    "for i in lista_players:\n",
    "    name = i\n",
    "    i = {'name':name, 'goals':0, 'assistance':0, 'yellow_cards':0, 'red_cards':0}\n",
    "    data_players.append(i)"
   ]
  },
  {
   "cell_type": "code",
   "execution_count": 36,
   "id": "03dc220c",
   "metadata": {},
   "outputs": [],
   "source": [
    "for player in data_players:\n",
    "    for match in copa:\n",
    "        for evento in match:\n",
    "            if (evento['event_type'] == 'Goal' or evento['event_type'] == 'Penalty') and player['name'] in evento['action_player_1']:\n",
    "                #if 'goals' in player.keys():\n",
    "                player['goals'] += 1\n",
    "            if evento['event_type'] == 'Yellow card' and player['name'] in evento['action_player_1']:\n",
    "                player['yellow_cards'] +=1\n",
    "            if evento['event_type'] == 'Red card' and player['name'] in evento['action_player_1']:\n",
    "                player['red_cards'] +=1\n",
    "            if evento['event_type'] == 'Goal' and 'action_player_2' in evento.keys():\n",
    "                if player['name'] in evento['action_player_2']:\n",
    "                    player['assistance'] += 1"
   ]
  },
  {
   "cell_type": "code",
   "execution_count": 37,
   "id": "32feac48",
   "metadata": {},
   "outputs": [],
   "source": [
    "coll_players = db[\"data_players\"]"
   ]
  },
  {
   "cell_type": "code",
   "execution_count": 38,
   "id": "41d00a59",
   "metadata": {},
   "outputs": [
    {
     "data": {
      "text/plain": [
       "<pymongo.results.InsertManyResult at 0x7fc6e4e69ec0>"
      ]
     },
     "execution_count": 38,
     "metadata": {},
     "output_type": "execute_result"
    }
   ],
   "source": [
    "coll_players.insert_many(data_players)"
   ]
  }
 ],
 "metadata": {
  "kernelspec": {
   "display_name": "Python 3 (ipykernel)",
   "language": "python",
   "name": "python3"
  },
  "language_info": {
   "codemirror_mode": {
    "name": "ipython",
    "version": 3
   },
   "file_extension": ".py",
   "mimetype": "text/x-python",
   "name": "python",
   "nbconvert_exporter": "python",
   "pygments_lexer": "ipython3",
   "version": "3.9.7"
  }
 },
 "nbformat": 4,
 "nbformat_minor": 5
}
